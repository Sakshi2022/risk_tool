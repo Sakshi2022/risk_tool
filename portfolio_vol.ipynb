{
 "cells": [
  {
   "cell_type": "code",
   "execution_count": 116,
   "metadata": {},
   "outputs": [],
   "source": [
    "import os\n",
    "os.chdir(r\"C:/Users/Admin/Desktop/Kristal/advisory_vols_gen\")\n",
    "import pandas as pd\n",
    "import numpy as np\n",
    "pd.options.mode.chained_assignment = None"
   ]
  },
  {
   "cell_type": "code",
   "execution_count": 117,
   "metadata": {},
   "outputs": [],
   "source": [
    "# Reading assets_vol file \n",
    "assets_vol = pd.read_csv('assets_vol.csv')\n",
    "assets_vol['VOL'] = assets_vol['VOL']/100\n",
    "assets_vol = assets_vol.astype({'asset_id' : int})"
   ]
  },
  {
   "cell_type": "code",
   "execution_count": 118,
   "metadata": {},
   "outputs": [],
   "source": [
    "# Creating separate df for multiple assets & single assets\n",
    "mult_assets = assets_vol.loc[(assets_vol['kristal_type'] == 'multiple_assets')].drop(['kristal_type'], axis=1)\n",
    "mult_assets.drop(mult_assets[(mult_assets.asset_id == 508)].index, inplace=True)\n",
    "mult_assets['PROXY_INDEX'] = mult_assets['PROXY_INDEX'].str.upper() \n",
    "\n",
    "# Portfolio vol = asset vol for single-asset kristals\n",
    "single_asset = assets_vol.loc[(assets_vol['kristal_type'] == 'single_asset')]\n",
    "single_asset['portfolio_vol'] = single_asset['VOL']"
   ]
  },
  {
   "cell_type": "code",
   "execution_count": 119,
   "metadata": {},
   "outputs": [],
   "source": [
    "# Function for calculating correlation part of the portfolio vol\n",
    "import itertools\n",
    "assets_corr = pd.read_excel(\"assets_bbg.xlsx\", sheet_name=\"Correlation\")\n",
    "assets_corr = assets_corr.set_index('Tickers')\n",
    "assets_corr.columns = map(str.upper, assets_corr.columns)\n",
    "assets_corr.index = assets_corr.index.str.upper()\n",
    "\n",
    "def calc_corr(bbg_df):\n",
    "    asset_pairs = list(itertools.combinations(bbg_df['PROXY_INDEX'], 2))\n",
    "    corr_vol = 0\n",
    "    for pair in asset_pairs:\n",
    "        asset1 = pair[0]\n",
    "        asset2 = pair[1]\n",
    "        correlation = assets_corr.loc[[asset1], [asset2]].values[0][0]\n",
    "        w1 = bbg_df.loc[bbg_df.PROXY_INDEX == asset1]['asset_weight'].values[0]\n",
    "        w2 = bbg_df.loc[bbg_df.PROXY_INDEX == asset2]['asset_weight'].values[0]\n",
    "        v1 = bbg_df.loc[bbg_df.PROXY_INDEX == asset1]['VOL'].values[0]\n",
    "        v2 = bbg_df.loc[bbg_df.PROXY_INDEX == asset2]['VOL'].values[0]\n",
    "        corr_vol += w1*w2*correlation*v1*v2\n",
    "    return corr_vol"
   ]
  },
  {
   "cell_type": "code",
   "execution_count": 120,
   "metadata": {},
   "outputs": [],
   "source": [
    "# Creating lists of assets and corresponding values to get 1 row for each kristal\n",
    "mult_assets = mult_assets.groupby(['kristal_name'], as_index=False).agg(lambda x: x.tolist())"
   ]
  },
  {
   "cell_type": "code",
   "execution_count": 121,
   "metadata": {},
   "outputs": [],
   "source": [
    "# Generating individual vols sum\n",
    "mult_assets['vol_sum'] = mult_assets.apply(lambda x : sum([a*b for a,b in zip(x.asset_weight, x.VOL)]), axis=1)\n",
    "\n",
    "# Generating correlation part \n",
    "mult_assets['vol_corr'] = mult_assets.apply(lambda x : calc_corr(pd.DataFrame(list(zip(x.PROXY_INDEX, x.asset_weight, x.VOL)), columns=['PROXY_INDEX', 'asset_weight', 'VOL'])), axis=1)\n",
    "\n",
    "# Portfolio vol = sqrt of parts from above 2 values\n",
    "mult_assets['portfolio_vol'] = mult_assets.apply(lambda x : (((x.vol_sum ** 2) + 2*x.vol_corr) ** 0.5), axis=1)"
   ]
  },
  {
   "cell_type": "code",
   "execution_count": 122,
   "metadata": {},
   "outputs": [],
   "source": [
    "sa_portfolio_vol = single_asset[['kristal_name', 'portfolio_vol']]\n",
    "ma_portfolio_vol = mult_assets[['kristal_name', 'portfolio_vol']]\n",
    "portfolio_vol = sa_portfolio_vol.append([ma_portfolio_vol], ignore_index=True)"
   ]
  },
  {
   "cell_type": "code",
   "execution_count": 123,
   "metadata": {},
   "outputs": [],
   "source": [
    "portfolio_vol.to_csv('portfolio_vol.csv', index=False)"
   ]
  },
  {
   "cell_type": "code",
   "execution_count": null,
   "metadata": {},
   "outputs": [],
   "source": []
  }
 ],
 "metadata": {
  "kernelspec": {
   "display_name": "Python 3",
   "language": "python",
   "name": "python3"
  },
  "language_info": {
   "codemirror_mode": {
    "name": "ipython",
    "version": 3
   },
   "file_extension": ".py",
   "mimetype": "text/x-python",
   "name": "python",
   "nbconvert_exporter": "python",
   "pygments_lexer": "ipython3",
   "version": "3.8.1"
  }
 },
 "nbformat": 4,
 "nbformat_minor": 4
}
