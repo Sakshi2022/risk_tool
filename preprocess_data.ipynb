{
 "cells": [
  {
   "cell_type": "code",
   "execution_count": 18,
   "metadata": {},
   "outputs": [],
   "source": [
    "import os\n",
    "os.chdir(r\"C:/Users/Admin/Desktop/Kristal/advisory_vols_gen\")\n",
    "import pandas as pd\n",
    "import numpy as np"
   ]
  },
  {
   "cell_type": "code",
   "execution_count": 21,
   "metadata": {},
   "outputs": [],
   "source": [
    "kristals_list = pd.read_csv(\"List of Assets.csv\")\n",
    "kristals_list = kristals_list.rename(columns={'Normal Kristals' : 'kristal_name'})"
   ]
  },
  {
   "cell_type": "code",
   "execution_count": 22,
   "metadata": {},
   "outputs": [],
   "source": [
    "# Putting labels for single & multi asset kristals\n",
    "kristals_list.loc[(pd.notnull(kristals_list['symbol'])), 'kristal_type'] = 'single_asset'\n",
    "kristals_list.loc[(pd.isnull(kristals_list['symbol'])), 'kristal_type'] = 'multiple_assets'"
   ]
  },
  {
   "cell_type": "code",
   "execution_count": 23,
   "metadata": {},
   "outputs": [],
   "source": [
    "# Joining with model accounts file to get asset IDs & asset weights for each kristal\n",
    "model_accounts = pd.read_excel(\"model_account_position.xlsx\")\n",
    "comb = kristals_list.merge(model_accounts, how='left', on='kristal_name')\n",
    "assets_df = comb[['kristal_name', 'asset_id', 'kristal_type', '% in kristal']] \n",
    "assets_df = assets_df.rename(columns={'% in kristal' : 'asset_weight'})\n",
    "\n",
    "# Drop kristal whose asset is not found in model_accounts \n",
    "assets_df.drop(assets_df[pd.isnull(assets_df.asset_id)].index, inplace=True)"
   ]
  },
  {
   "cell_type": "code",
   "execution_count": 24,
   "metadata": {},
   "outputs": [],
   "source": [
    "# Joining with assets_bbg file to get PROXY_INDEX and VOL for each asset\n",
    "assets_bbg = pd.read_excel(\"assets_bbg.xlsx\", sheet_name=\"Assets\")\n",
    "comb2 = assets_df.merge(assets_bbg, how='left', on='asset_id')\n",
    "assets_vol = comb2[['kristal_name', 'asset_id', 'asset_weight', 'kristal_type', 'PROXY_INDEX', 'VOL']]\n",
    "assets_vol = assets_vol.drop_duplicates()\n",
    "\n",
    "# Printing out assets file if some assets are not found in assets_bbg \n",
    "assets_nf = assets_vol.loc[pd.isnull(assets_vol.asset_id)]\n",
    "if (len(assets_nf) > 0):\n",
    "    print(\"Some assets not found in assets_bbg ... printing these ...\")\n",
    "    assets_nf.to_csv('assets_not_found.csv', index=False)\n",
    "\n",
    "# asset_id = 508: drop for single-asset kristals & put vol = 0 for multi-asset kristal\n",
    "assets_vol.drop(assets_vol[(assets_vol.asset_id == 508) & (assets_vol.kristal_type == 'single_asset')].index, inplace=True)\n",
    "assets_vol.loc[((assets_vol.asset_id == 508) & (assets_vol.kristal_type == 'multiple_assets')), 'VOL'] = 0"
   ]
  },
  {
   "cell_type": "code",
   "execution_count": 26,
   "metadata": {},
   "outputs": [],
   "source": [
    "assets_vol.to_csv('assets_vol.csv', index=False)"
   ]
  },
  {
   "cell_type": "code",
   "execution_count": null,
   "metadata": {},
   "outputs": [],
   "source": []
  }
 ],
 "metadata": {
  "kernelspec": {
   "display_name": "Python 3",
   "language": "python",
   "name": "python3"
  },
  "language_info": {
   "codemirror_mode": {
    "name": "ipython",
    "version": 3
   },
   "file_extension": ".py",
   "mimetype": "text/x-python",
   "name": "python",
   "nbconvert_exporter": "python",
   "pygments_lexer": "ipython3",
   "version": "3.8.1"
  }
 },
 "nbformat": 4,
 "nbformat_minor": 4
}
